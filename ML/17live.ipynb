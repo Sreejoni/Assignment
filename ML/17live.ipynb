{
  "nbformat": 4,
  "nbformat_minor": 0,
  "metadata": {
    "colab": {
      "name": "17live.ipynb",
      "provenance": []
    },
    "kernelspec": {
      "name": "python3",
      "display_name": "Python 3"
    },
    "language_info": {
      "name": "python"
    }
  },
  "cells": [
    {
      "cell_type": "code",
      "metadata": {
        "id": "aD5qsratcDla"
      },
      "source": [
        "#importing required libraries\n",
        "import numpy as np\n",
        "import pandas as pd\n",
        "import tensorflow as tf\n",
        "import matplotlib.pyplot as plt\n",
        "import seaborn as sns\n",
        "import plotly.express as px\n",
        "import warnings\n",
        "warnings.filterwarnings('ignore')"
      ],
      "execution_count": 109,
      "outputs": []
    },
    {
      "cell_type": "code",
      "metadata": {
        "id": "k5dGFdLZcE5o"
      },
      "source": [
        "#loadind dataset\n",
        "test= pd.read_csv('/content/drive/MyDrive/Predictive_Data/test_file.csv')\n",
        "train= pd.read_csv('/content/drive/MyDrive/Predictive_Data/train_file.csv')"
      ],
      "execution_count": 110,
      "outputs": []
    },
    {
      "cell_type": "code",
      "metadata": {
        "colab": {
          "base_uri": "https://localhost:8080/",
          "height": 1000
        },
        "id": "D6YFww0XcjcP",
        "outputId": "8b2acac3-cc85-48b5-858f-711affc64b4c"
      },
      "source": [
        "train"
      ],
      "execution_count": 111,
      "outputs": [
        {
          "output_type": "execute_result",
          "data": {
            "text/html": [
              "<div>\n",
              "<style scoped>\n",
              "    .dataframe tbody tr th:only-of-type {\n",
              "        vertical-align: middle;\n",
              "    }\n",
              "\n",
              "    .dataframe tbody tr th {\n",
              "        vertical-align: top;\n",
              "    }\n",
              "\n",
              "    .dataframe thead th {\n",
              "        text-align: right;\n",
              "    }\n",
              "</style>\n",
              "<table border=\"1\" class=\"dataframe\">\n",
              "  <thead>\n",
              "    <tr style=\"text-align: right;\">\n",
              "      <th></th>\n",
              "      <th>ID</th>\n",
              "      <th>UsageClass</th>\n",
              "      <th>CheckoutType</th>\n",
              "      <th>CheckoutYear</th>\n",
              "      <th>CheckoutMonth</th>\n",
              "      <th>Checkouts</th>\n",
              "      <th>Title</th>\n",
              "      <th>Creator</th>\n",
              "      <th>Subjects</th>\n",
              "      <th>Publisher</th>\n",
              "      <th>PublicationYear</th>\n",
              "      <th>MaterialType</th>\n",
              "    </tr>\n",
              "  </thead>\n",
              "  <tbody>\n",
              "    <tr>\n",
              "      <th>0</th>\n",
              "      <td>1</td>\n",
              "      <td>Physical</td>\n",
              "      <td>Horizon</td>\n",
              "      <td>2005</td>\n",
              "      <td>4</td>\n",
              "      <td>1</td>\n",
              "      <td>Tidal wave</td>\n",
              "      <td>NaN</td>\n",
              "      <td>Tsunamis, Tsunamis Juvenile literature</td>\n",
              "      <td>NaN</td>\n",
              "      <td>NaN</td>\n",
              "      <td>BOOK</td>\n",
              "    </tr>\n",
              "    <tr>\n",
              "      <th>1</th>\n",
              "      <td>2</td>\n",
              "      <td>Physical</td>\n",
              "      <td>Horizon</td>\n",
              "      <td>2005</td>\n",
              "      <td>4</td>\n",
              "      <td>1</td>\n",
              "      <td>London holiday / Richard Peck.</td>\n",
              "      <td>Peck, Richard, 1934-</td>\n",
              "      <td>NaN</td>\n",
              "      <td>Viking,</td>\n",
              "      <td>1998.</td>\n",
              "      <td>BOOK</td>\n",
              "    </tr>\n",
              "    <tr>\n",
              "      <th>2</th>\n",
              "      <td>3</td>\n",
              "      <td>Physical</td>\n",
              "      <td>Horizon</td>\n",
              "      <td>2005</td>\n",
              "      <td>4</td>\n",
              "      <td>3</td>\n",
              "      <td>Cinco de Mayo : celebrating Hispanic pride / C...</td>\n",
              "      <td>Gnojewski, Carol</td>\n",
              "      <td>Cinco de Mayo Mexican holiday History Juvenile...</td>\n",
              "      <td>Enslow Publishers,</td>\n",
              "      <td>c2002.</td>\n",
              "      <td>BOOK</td>\n",
              "    </tr>\n",
              "    <tr>\n",
              "      <th>3</th>\n",
              "      <td>4</td>\n",
              "      <td>Physical</td>\n",
              "      <td>Horizon</td>\n",
              "      <td>2005</td>\n",
              "      <td>4</td>\n",
              "      <td>1</td>\n",
              "      <td>Annapolis</td>\n",
              "      <td>NaN</td>\n",
              "      <td>War stories, Historical fiction, Domestic fict...</td>\n",
              "      <td>NaN</td>\n",
              "      <td>NaN</td>\n",
              "      <td>BOOK</td>\n",
              "    </tr>\n",
              "    <tr>\n",
              "      <th>4</th>\n",
              "      <td>5</td>\n",
              "      <td>Physical</td>\n",
              "      <td>Horizon</td>\n",
              "      <td>2005</td>\n",
              "      <td>4</td>\n",
              "      <td>1</td>\n",
              "      <td>As a man thinketh</td>\n",
              "      <td>NaN</td>\n",
              "      <td>Thought and thinking</td>\n",
              "      <td>NaN</td>\n",
              "      <td>NaN</td>\n",
              "      <td>BOOK</td>\n",
              "    </tr>\n",
              "    <tr>\n",
              "      <th>...</th>\n",
              "      <td>...</td>\n",
              "      <td>...</td>\n",
              "      <td>...</td>\n",
              "      <td>...</td>\n",
              "      <td>...</td>\n",
              "      <td>...</td>\n",
              "      <td>...</td>\n",
              "      <td>...</td>\n",
              "      <td>...</td>\n",
              "      <td>...</td>\n",
              "      <td>...</td>\n",
              "      <td>...</td>\n",
              "    </tr>\n",
              "    <tr>\n",
              "      <th>31648</th>\n",
              "      <td>31649</td>\n",
              "      <td>Physical</td>\n",
              "      <td>Horizon</td>\n",
              "      <td>2005</td>\n",
              "      <td>4</td>\n",
              "      <td>2</td>\n",
              "      <td>California camping</td>\n",
              "      <td>NaN</td>\n",
              "      <td>California Guidebooks, Camp sites facilities e...</td>\n",
              "      <td>NaN</td>\n",
              "      <td>NaN</td>\n",
              "      <td>BOOK</td>\n",
              "    </tr>\n",
              "    <tr>\n",
              "      <th>31649</th>\n",
              "      <td>31650</td>\n",
              "      <td>Physical</td>\n",
              "      <td>Horizon</td>\n",
              "      <td>2005</td>\n",
              "      <td>4</td>\n",
              "      <td>5</td>\n",
              "      <td>silent world of Nicholas Quinn</td>\n",
              "      <td>NaN</td>\n",
              "      <td>Morse Inspector Fictitious character Drama</td>\n",
              "      <td>NaN</td>\n",
              "      <td>NaN</td>\n",
              "      <td>VIDEOCASS</td>\n",
              "    </tr>\n",
              "    <tr>\n",
              "      <th>31650</th>\n",
              "      <td>31651</td>\n",
              "      <td>Physical</td>\n",
              "      <td>Horizon</td>\n",
              "      <td>2005</td>\n",
              "      <td>4</td>\n",
              "      <td>12</td>\n",
              "      <td>big Lebowski</td>\n",
              "      <td>NaN</td>\n",
              "      <td>Video recordings for the hearing impaired, Fea...</td>\n",
              "      <td>NaN</td>\n",
              "      <td>NaN</td>\n",
              "      <td>VIDEODISC</td>\n",
              "    </tr>\n",
              "    <tr>\n",
              "      <th>31651</th>\n",
              "      <td>31652</td>\n",
              "      <td>Physical</td>\n",
              "      <td>Horizon</td>\n",
              "      <td>2005</td>\n",
              "      <td>4</td>\n",
              "      <td>4</td>\n",
              "      <td>Fables. [3], Storybook love / Bill Willingham,...</td>\n",
              "      <td>Willingham, Bill</td>\n",
              "      <td>Fairy tales Comic books strips etc, Graphic no...</td>\n",
              "      <td>DC Comics,</td>\n",
              "      <td>c2004.</td>\n",
              "      <td>BOOK</td>\n",
              "    </tr>\n",
              "    <tr>\n",
              "      <th>31652</th>\n",
              "      <td>31653</td>\n",
              "      <td>Physical</td>\n",
              "      <td>Horizon</td>\n",
              "      <td>2005</td>\n",
              "      <td>4</td>\n",
              "      <td>2</td>\n",
              "      <td>ILLM HIGHER COMMAND</td>\n",
              "      <td>NaN</td>\n",
              "      <td>NaN</td>\n",
              "      <td>NaN</td>\n",
              "      <td>NaN</td>\n",
              "      <td>MIXED</td>\n",
              "    </tr>\n",
              "  </tbody>\n",
              "</table>\n",
              "<p>31653 rows × 12 columns</p>\n",
              "</div>"
            ],
            "text/plain": [
              "          ID UsageClass  ... PublicationYear  MaterialType\n",
              "0          1   Physical  ...             NaN          BOOK\n",
              "1          2   Physical  ...           1998.          BOOK\n",
              "2          3   Physical  ...          c2002.          BOOK\n",
              "3          4   Physical  ...             NaN          BOOK\n",
              "4          5   Physical  ...             NaN          BOOK\n",
              "...      ...        ...  ...             ...           ...\n",
              "31648  31649   Physical  ...             NaN          BOOK\n",
              "31649  31650   Physical  ...             NaN     VIDEOCASS\n",
              "31650  31651   Physical  ...             NaN     VIDEODISC\n",
              "31651  31652   Physical  ...          c2004.          BOOK\n",
              "31652  31653   Physical  ...             NaN         MIXED\n",
              "\n",
              "[31653 rows x 12 columns]"
            ]
          },
          "metadata": {},
          "execution_count": 111
        }
      ]
    },
    {
      "cell_type": "code",
      "metadata": {
        "colab": {
          "base_uri": "https://localhost:8080/"
        },
        "id": "aQfCb9mqc8RF",
        "outputId": "860b06ba-1116-4196-881f-5025a20dfb13"
      },
      "source": [
        "train.dtypes"
      ],
      "execution_count": 112,
      "outputs": [
        {
          "output_type": "execute_result",
          "data": {
            "text/plain": [
              "ID                  int64\n",
              "UsageClass         object\n",
              "CheckoutType       object\n",
              "CheckoutYear        int64\n",
              "CheckoutMonth       int64\n",
              "Checkouts           int64\n",
              "Title              object\n",
              "Creator            object\n",
              "Subjects           object\n",
              "Publisher          object\n",
              "PublicationYear    object\n",
              "MaterialType       object\n",
              "dtype: object"
            ]
          },
          "metadata": {},
          "execution_count": 112
        }
      ]
    },
    {
      "cell_type": "code",
      "metadata": {
        "colab": {
          "base_uri": "https://localhost:8080/"
        },
        "id": "l1eb_F6jc_nO",
        "outputId": "ed713d61-2108-4fbf-ddc5-0194d71730e1"
      },
      "source": [
        "train.nunique()"
      ],
      "execution_count": 113,
      "outputs": [
        {
          "output_type": "execute_result",
          "data": {
            "text/plain": [
              "ID                 31653\n",
              "UsageClass             1\n",
              "CheckoutType           1\n",
              "CheckoutYear           1\n",
              "CheckoutMonth          1\n",
              "Checkouts             50\n",
              "Title              31653\n",
              "Creator             6731\n",
              "Subjects           24755\n",
              "Publisher           3519\n",
              "PublicationYear      840\n",
              "MaterialType           8\n",
              "dtype: int64"
            ]
          },
          "metadata": {},
          "execution_count": 113
        }
      ]
    },
    {
      "cell_type": "code",
      "metadata": {
        "colab": {
          "base_uri": "https://localhost:8080/",
          "height": 419
        },
        "id": "h3NyZAakcr9Y",
        "outputId": "ea53e3a4-4747-4ca5-ee0b-819a54b353c5"
      },
      "source": [
        "train.drop(['UsageClass',\t'CheckoutType', 'CheckoutYear',\t'CheckoutMonth', 'Title',\t'Creator',\t'Subjects',\t'Publisher',\t'PublicationYear'], \n",
        "           axis=1, inplace = True)\n",
        "train"
      ],
      "execution_count": 114,
      "outputs": [
        {
          "output_type": "execute_result",
          "data": {
            "text/html": [
              "<div>\n",
              "<style scoped>\n",
              "    .dataframe tbody tr th:only-of-type {\n",
              "        vertical-align: middle;\n",
              "    }\n",
              "\n",
              "    .dataframe tbody tr th {\n",
              "        vertical-align: top;\n",
              "    }\n",
              "\n",
              "    .dataframe thead th {\n",
              "        text-align: right;\n",
              "    }\n",
              "</style>\n",
              "<table border=\"1\" class=\"dataframe\">\n",
              "  <thead>\n",
              "    <tr style=\"text-align: right;\">\n",
              "      <th></th>\n",
              "      <th>ID</th>\n",
              "      <th>Checkouts</th>\n",
              "      <th>MaterialType</th>\n",
              "    </tr>\n",
              "  </thead>\n",
              "  <tbody>\n",
              "    <tr>\n",
              "      <th>0</th>\n",
              "      <td>1</td>\n",
              "      <td>1</td>\n",
              "      <td>BOOK</td>\n",
              "    </tr>\n",
              "    <tr>\n",
              "      <th>1</th>\n",
              "      <td>2</td>\n",
              "      <td>1</td>\n",
              "      <td>BOOK</td>\n",
              "    </tr>\n",
              "    <tr>\n",
              "      <th>2</th>\n",
              "      <td>3</td>\n",
              "      <td>3</td>\n",
              "      <td>BOOK</td>\n",
              "    </tr>\n",
              "    <tr>\n",
              "      <th>3</th>\n",
              "      <td>4</td>\n",
              "      <td>1</td>\n",
              "      <td>BOOK</td>\n",
              "    </tr>\n",
              "    <tr>\n",
              "      <th>4</th>\n",
              "      <td>5</td>\n",
              "      <td>1</td>\n",
              "      <td>BOOK</td>\n",
              "    </tr>\n",
              "    <tr>\n",
              "      <th>...</th>\n",
              "      <td>...</td>\n",
              "      <td>...</td>\n",
              "      <td>...</td>\n",
              "    </tr>\n",
              "    <tr>\n",
              "      <th>31648</th>\n",
              "      <td>31649</td>\n",
              "      <td>2</td>\n",
              "      <td>BOOK</td>\n",
              "    </tr>\n",
              "    <tr>\n",
              "      <th>31649</th>\n",
              "      <td>31650</td>\n",
              "      <td>5</td>\n",
              "      <td>VIDEOCASS</td>\n",
              "    </tr>\n",
              "    <tr>\n",
              "      <th>31650</th>\n",
              "      <td>31651</td>\n",
              "      <td>12</td>\n",
              "      <td>VIDEODISC</td>\n",
              "    </tr>\n",
              "    <tr>\n",
              "      <th>31651</th>\n",
              "      <td>31652</td>\n",
              "      <td>4</td>\n",
              "      <td>BOOK</td>\n",
              "    </tr>\n",
              "    <tr>\n",
              "      <th>31652</th>\n",
              "      <td>31653</td>\n",
              "      <td>2</td>\n",
              "      <td>MIXED</td>\n",
              "    </tr>\n",
              "  </tbody>\n",
              "</table>\n",
              "<p>31653 rows × 3 columns</p>\n",
              "</div>"
            ],
            "text/plain": [
              "          ID  Checkouts MaterialType\n",
              "0          1          1         BOOK\n",
              "1          2          1         BOOK\n",
              "2          3          3         BOOK\n",
              "3          4          1         BOOK\n",
              "4          5          1         BOOK\n",
              "...      ...        ...          ...\n",
              "31648  31649          2         BOOK\n",
              "31649  31650          5    VIDEOCASS\n",
              "31650  31651         12    VIDEODISC\n",
              "31651  31652          4         BOOK\n",
              "31652  31653          2        MIXED\n",
              "\n",
              "[31653 rows x 3 columns]"
            ]
          },
          "metadata": {},
          "execution_count": 114
        }
      ]
    },
    {
      "cell_type": "code",
      "metadata": {
        "colab": {
          "base_uri": "https://localhost:8080/"
        },
        "id": "KaCF24oOB6vc",
        "outputId": "d7bc80e7-1610-4f6f-c6ce-5da622e0fd30"
      },
      "source": [
        "pd.unique(train['MaterialType'])"
      ],
      "execution_count": 115,
      "outputs": [
        {
          "output_type": "execute_result",
          "data": {
            "text/plain": [
              "array(['BOOK', 'SOUNDDISC', 'VIDEOCASS', 'VIDEODISC', 'SOUNDCASS',\n",
              "       'MUSIC', 'MIXED', 'CR'], dtype=object)"
            ]
          },
          "metadata": {},
          "execution_count": 115
        }
      ]
    },
    {
      "cell_type": "code",
      "metadata": {
        "colab": {
          "base_uri": "https://localhost:8080/",
          "height": 419
        },
        "id": "siR9PpLklyEp",
        "outputId": "c924e455-4f0e-457f-dfb5-2a629a6c370b"
      },
      "source": [
        "train['MaterialType'].replace({'BOOK':0, 'SOUNDDISC':1, 'VIDEOCASS':2, 'VIDEODISC':3, 'SOUNDCASS':4,\n",
        "       'MUSIC':5, 'MIXED':6, 'CR':7}, inplace=True)\n",
        "train"
      ],
      "execution_count": 116,
      "outputs": [
        {
          "output_type": "execute_result",
          "data": {
            "text/html": [
              "<div>\n",
              "<style scoped>\n",
              "    .dataframe tbody tr th:only-of-type {\n",
              "        vertical-align: middle;\n",
              "    }\n",
              "\n",
              "    .dataframe tbody tr th {\n",
              "        vertical-align: top;\n",
              "    }\n",
              "\n",
              "    .dataframe thead th {\n",
              "        text-align: right;\n",
              "    }\n",
              "</style>\n",
              "<table border=\"1\" class=\"dataframe\">\n",
              "  <thead>\n",
              "    <tr style=\"text-align: right;\">\n",
              "      <th></th>\n",
              "      <th>ID</th>\n",
              "      <th>Checkouts</th>\n",
              "      <th>MaterialType</th>\n",
              "    </tr>\n",
              "  </thead>\n",
              "  <tbody>\n",
              "    <tr>\n",
              "      <th>0</th>\n",
              "      <td>1</td>\n",
              "      <td>1</td>\n",
              "      <td>0</td>\n",
              "    </tr>\n",
              "    <tr>\n",
              "      <th>1</th>\n",
              "      <td>2</td>\n",
              "      <td>1</td>\n",
              "      <td>0</td>\n",
              "    </tr>\n",
              "    <tr>\n",
              "      <th>2</th>\n",
              "      <td>3</td>\n",
              "      <td>3</td>\n",
              "      <td>0</td>\n",
              "    </tr>\n",
              "    <tr>\n",
              "      <th>3</th>\n",
              "      <td>4</td>\n",
              "      <td>1</td>\n",
              "      <td>0</td>\n",
              "    </tr>\n",
              "    <tr>\n",
              "      <th>4</th>\n",
              "      <td>5</td>\n",
              "      <td>1</td>\n",
              "      <td>0</td>\n",
              "    </tr>\n",
              "    <tr>\n",
              "      <th>...</th>\n",
              "      <td>...</td>\n",
              "      <td>...</td>\n",
              "      <td>...</td>\n",
              "    </tr>\n",
              "    <tr>\n",
              "      <th>31648</th>\n",
              "      <td>31649</td>\n",
              "      <td>2</td>\n",
              "      <td>0</td>\n",
              "    </tr>\n",
              "    <tr>\n",
              "      <th>31649</th>\n",
              "      <td>31650</td>\n",
              "      <td>5</td>\n",
              "      <td>2</td>\n",
              "    </tr>\n",
              "    <tr>\n",
              "      <th>31650</th>\n",
              "      <td>31651</td>\n",
              "      <td>12</td>\n",
              "      <td>3</td>\n",
              "    </tr>\n",
              "    <tr>\n",
              "      <th>31651</th>\n",
              "      <td>31652</td>\n",
              "      <td>4</td>\n",
              "      <td>0</td>\n",
              "    </tr>\n",
              "    <tr>\n",
              "      <th>31652</th>\n",
              "      <td>31653</td>\n",
              "      <td>2</td>\n",
              "      <td>6</td>\n",
              "    </tr>\n",
              "  </tbody>\n",
              "</table>\n",
              "<p>31653 rows × 3 columns</p>\n",
              "</div>"
            ],
            "text/plain": [
              "          ID  Checkouts  MaterialType\n",
              "0          1          1             0\n",
              "1          2          1             0\n",
              "2          3          3             0\n",
              "3          4          1             0\n",
              "4          5          1             0\n",
              "...      ...        ...           ...\n",
              "31648  31649          2             0\n",
              "31649  31650          5             2\n",
              "31650  31651         12             3\n",
              "31651  31652          4             0\n",
              "31652  31653          2             6\n",
              "\n",
              "[31653 rows x 3 columns]"
            ]
          },
          "metadata": {},
          "execution_count": 116
        }
      ]
    },
    {
      "cell_type": "code",
      "metadata": {
        "colab": {
          "base_uri": "https://localhost:8080/"
        },
        "id": "bMQeT5ZseZIl",
        "outputId": "ddbf60ea-8920-4d99-e68e-6908f62367b4"
      },
      "source": [
        "x= train.drop(columns=['MaterialType'])\n",
        "y= train['MaterialType']\n",
        "print(x)\n",
        "print(y)"
      ],
      "execution_count": 117,
      "outputs": [
        {
          "output_type": "stream",
          "name": "stdout",
          "text": [
            "          ID  Checkouts\n",
            "0          1          1\n",
            "1          2          1\n",
            "2          3          3\n",
            "3          4          1\n",
            "4          5          1\n",
            "...      ...        ...\n",
            "31648  31649          2\n",
            "31649  31650          5\n",
            "31650  31651         12\n",
            "31651  31652          4\n",
            "31652  31653          2\n",
            "\n",
            "[31653 rows x 2 columns]\n",
            "0        0\n",
            "1        0\n",
            "2        0\n",
            "3        0\n",
            "4        0\n",
            "        ..\n",
            "31648    0\n",
            "31649    2\n",
            "31650    3\n",
            "31651    0\n",
            "31652    6\n",
            "Name: MaterialType, Length: 31653, dtype: int64\n"
          ]
        }
      ]
    },
    {
      "cell_type": "code",
      "metadata": {
        "colab": {
          "base_uri": "https://localhost:8080/"
        },
        "id": "etMbR75hermQ",
        "outputId": "b8012ba4-c8fb-48ba-b5b3-5361212831e6"
      },
      "source": [
        "x.replace([np.inf, -np.inf], np.nan, inplace=True)\n",
        "y.replace([np.inf, -np.inf], np.nan, inplace=True)\n",
        "x.fillna(0)\n",
        "y.fillna(0)"
      ],
      "execution_count": 118,
      "outputs": [
        {
          "output_type": "execute_result",
          "data": {
            "text/plain": [
              "0        0\n",
              "1        0\n",
              "2        0\n",
              "3        0\n",
              "4        0\n",
              "        ..\n",
              "31648    0\n",
              "31649    2\n",
              "31650    3\n",
              "31651    0\n",
              "31652    6\n",
              "Name: MaterialType, Length: 31653, dtype: int64"
            ]
          },
          "metadata": {},
          "execution_count": 118
        }
      ]
    },
    {
      "cell_type": "code",
      "metadata": {
        "colab": {
          "base_uri": "https://localhost:8080/"
        },
        "id": "tT_0HvoejKE_",
        "outputId": "3ebdbfc7-ce76-47bd-e597-2ff0c690f9a6"
      },
      "source": [
        "print(x)\n",
        "print(y)"
      ],
      "execution_count": 119,
      "outputs": [
        {
          "output_type": "stream",
          "name": "stdout",
          "text": [
            "          ID  Checkouts\n",
            "0          1          1\n",
            "1          2          1\n",
            "2          3          3\n",
            "3          4          1\n",
            "4          5          1\n",
            "...      ...        ...\n",
            "31648  31649          2\n",
            "31649  31650          5\n",
            "31650  31651         12\n",
            "31651  31652          4\n",
            "31652  31653          2\n",
            "\n",
            "[31653 rows x 2 columns]\n",
            "0        0\n",
            "1        0\n",
            "2        0\n",
            "3        0\n",
            "4        0\n",
            "        ..\n",
            "31648    0\n",
            "31649    2\n",
            "31650    3\n",
            "31651    0\n",
            "31652    6\n",
            "Name: MaterialType, Length: 31653, dtype: int64\n"
          ]
        }
      ]
    },
    {
      "cell_type": "code",
      "metadata": {
        "id": "OgDjvx4niFjp"
      },
      "source": [
        "from sklearn.model_selection import train_test_split\n",
        "x_train,x_test,y_train,y_test=train_test_split(x,y,random_state=0,test_size=0.2)"
      ],
      "execution_count": 120,
      "outputs": []
    },
    {
      "cell_type": "code",
      "metadata": {
        "colab": {
          "base_uri": "https://localhost:8080/"
        },
        "id": "kz9hMOQFiG8w",
        "outputId": "8a089f20-cbe8-4feb-9215-19c7dbe81739"
      },
      "source": [
        "print(len(x_test))\n",
        "print(len(x_train))\n",
        "print(len(y_test))\n",
        "print(len(y_train))"
      ],
      "execution_count": 121,
      "outputs": [
        {
          "output_type": "stream",
          "name": "stdout",
          "text": [
            "6331\n",
            "25322\n",
            "6331\n",
            "25322\n"
          ]
        }
      ]
    },
    {
      "cell_type": "code",
      "metadata": {
        "colab": {
          "base_uri": "https://localhost:8080/"
        },
        "id": "0MaNfjD-iKDz",
        "outputId": "3553daa6-cc8f-4a06-b8ad-d0a3554e4d5d"
      },
      "source": [
        "from sklearn.neighbors import KNeighborsClassifier\n",
        "knn=KNeighborsClassifier(n_neighbors=7)\n",
        "knn.fit(x_train,y_train)"
      ],
      "execution_count": 122,
      "outputs": [
        {
          "output_type": "execute_result",
          "data": {
            "text/plain": [
              "KNeighborsClassifier(n_neighbors=7)"
            ]
          },
          "metadata": {},
          "execution_count": 122
        }
      ]
    },
    {
      "cell_type": "code",
      "metadata": {
        "colab": {
          "base_uri": "https://localhost:8080/"
        },
        "id": "w981EtPoiNHG",
        "outputId": "a95fd786-c978-43ec-ebb0-ae9fc35ff522"
      },
      "source": [
        "y_pred=knn.predict(x_test)\n",
        "from sklearn.metrics import accuracy_score,classification_report,confusion_matrix\n",
        "from sklearn.metrics import r2_score\n",
        "from sklearn.metrics import mean_squared_error\n",
        "print(\"Classification Report is:\\n\",classification_report(y_test,y_pred))\n",
        "print(\"Confusion Matrix:\\n\",confusion_matrix(y_test,y_pred))\n",
        "print(\"Training Score:\\n\",knn.score(x_train,y_train)*100)"
      ],
      "execution_count": 123,
      "outputs": [
        {
          "output_type": "stream",
          "name": "stdout",
          "text": [
            "Classification Report is:\n",
            "               precision    recall  f1-score   support\n",
            "\n",
            "           0       0.69      0.98      0.81      4376\n",
            "           1       0.10      0.01      0.02       791\n",
            "           2       0.07      0.00      0.01       530\n",
            "           3       0.00      0.00      0.00       303\n",
            "           4       0.00      0.00      0.00       194\n",
            "           5       0.00      0.00      0.00        41\n",
            "           6       0.00      0.00      0.00        76\n",
            "           7       0.00      0.00      0.00        20\n",
            "\n",
            "    accuracy                           0.68      6331\n",
            "   macro avg       0.11      0.12      0.11      6331\n",
            "weighted avg       0.50      0.68      0.56      6331\n",
            "\n",
            "Confusion Matrix:\n",
            " [[4277   73   21    5    0    0    0    0]\n",
            " [ 775   11    3    2    0    0    0    0]\n",
            " [ 520    8    2    0    0    0    0    0]\n",
            " [ 291   12    0    0    0    0    0    0]\n",
            " [ 191    2    1    0    0    0    0    0]\n",
            " [  39    2    0    0    0    0    0    0]\n",
            " [  73    3    0    0    0    0    0    0]\n",
            " [  19    1    0    0    0    0    0    0]]\n",
            "Training Score:\n",
            " 68.9913908853961\n"
          ]
        }
      ]
    },
    {
      "cell_type": "code",
      "metadata": {
        "colab": {
          "base_uri": "https://localhost:8080/"
        },
        "id": "yxq9JEoRiUEv",
        "outputId": "b09b8222-2c92-4df4-954b-01c18fe250fc"
      },
      "source": [
        "from sklearn.naive_bayes import GaussianNB\n",
        "gnb = GaussianNB()\n",
        "gnb.fit(x_train,y_train)"
      ],
      "execution_count": 124,
      "outputs": [
        {
          "output_type": "execute_result",
          "data": {
            "text/plain": [
              "GaussianNB()"
            ]
          },
          "metadata": {},
          "execution_count": 124
        }
      ]
    },
    {
      "cell_type": "code",
      "metadata": {
        "colab": {
          "base_uri": "https://localhost:8080/"
        },
        "id": "eV_ZuvD2iWt6",
        "outputId": "0aa87fa4-8871-4163-a6c2-0a6b368aceb2"
      },
      "source": [
        "y_pred=gnb.predict(x_test)\n",
        "from sklearn.metrics import accuracy_score,classification_report,confusion_matrix\n",
        "from sklearn.metrics import r2_score\n",
        "from sklearn.metrics import mean_squared_error\n",
        "print(\"Classification Report is:\\n\",classification_report(y_test,y_pred))\n",
        "print(\"Confusion Matrix:\\n\",confusion_matrix(y_test,y_pred))\n",
        "print(\"Training Score:\\n\",gnb.score(x_train,y_train)*100)\n",
        "print(accuracy_score(y_test,y_pred)*100)"
      ],
      "execution_count": 125,
      "outputs": [
        {
          "output_type": "stream",
          "name": "stdout",
          "text": [
            "Classification Report is:\n",
            "               precision    recall  f1-score   support\n",
            "\n",
            "           0       0.70      0.98      0.81      4376\n",
            "           1       0.00      0.00      0.00       791\n",
            "           2       0.00      0.00      0.00       530\n",
            "           3       0.31      0.21      0.25       303\n",
            "           4       0.00      0.00      0.00       194\n",
            "           5       0.00      0.00      0.00        41\n",
            "           6       0.00      0.00      0.00        76\n",
            "           7       0.00      0.00      0.00        20\n",
            "\n",
            "    accuracy                           0.68      6331\n",
            "   macro avg       0.13      0.15      0.13      6331\n",
            "weighted avg       0.50      0.68      0.57      6331\n",
            "\n",
            "Confusion Matrix:\n",
            " [[4272    0    0  104    0    0    0    0]\n",
            " [ 777    0    0   14    0    0    0    0]\n",
            " [ 507    0    0   23    0    0    0    0]\n",
            " [ 240    0    0   63    0    0    0    0]\n",
            " [ 193    0    0    1    0    0    0    0]\n",
            " [  41    0    0    0    0    0    0    0]\n",
            " [  76    0    0    0    0    0    0    0]\n",
            " [  20    0    0    0    0    0    0    0]]\n",
            "Training Score:\n",
            " 68.27264829002448\n",
            "68.47259516664033\n"
          ]
        }
      ]
    },
    {
      "cell_type": "code",
      "metadata": {
        "colab": {
          "base_uri": "https://localhost:8080/"
        },
        "id": "27LcdDgZia_F",
        "outputId": "83e46c4b-5990-4b46-bf36-2b99de27f991"
      },
      "source": [
        "from sklearn.tree import DecisionTreeClassifier\n",
        "dtree = DecisionTreeClassifier(max_depth=6, random_state=123,criterion='entropy')\n",
        "dtree.fit(x_train,y_train)"
      ],
      "execution_count": 126,
      "outputs": [
        {
          "output_type": "execute_result",
          "data": {
            "text/plain": [
              "DecisionTreeClassifier(criterion='entropy', max_depth=6, random_state=123)"
            ]
          },
          "metadata": {},
          "execution_count": 126
        }
      ]
    },
    {
      "cell_type": "code",
      "metadata": {
        "colab": {
          "base_uri": "https://localhost:8080/"
        },
        "id": "PmR9E6q4idIJ",
        "outputId": "b60e60ad-fcd5-42f3-82ae-7622b8323812"
      },
      "source": [
        "from sklearn.metrics import classification_report,mean_squared_error\n",
        "y_pred=dtree.predict(x_test)\n",
        "conf =print(confusion_matrix(y_test, y_pred))\n",
        "clf =print(classification_report(y_test, y_pred))\n",
        "print(\"Training Score:\\n\",dtree.score(x_train,y_train)*100)"
      ],
      "execution_count": 127,
      "outputs": [
        {
          "output_type": "stream",
          "name": "stdout",
          "text": [
            "[[4339   11    1   24    1    0    0    0]\n",
            " [ 787    2    0    2    0    0    0    0]\n",
            " [ 520    6    1    3    0    0    0    0]\n",
            " [ 284    1    2   16    0    0    0    0]\n",
            " [ 194    0    0    0    0    0    0    0]\n",
            " [  41    0    0    0    0    0    0    0]\n",
            " [  76    0    0    0    0    0    0    0]\n",
            " [  20    0    0    0    0    0    0    0]]\n",
            "              precision    recall  f1-score   support\n",
            "\n",
            "           0       0.69      0.99      0.82      4376\n",
            "           1       0.10      0.00      0.00       791\n",
            "           2       0.25      0.00      0.00       530\n",
            "           3       0.36      0.05      0.09       303\n",
            "           4       0.00      0.00      0.00       194\n",
            "           5       0.00      0.00      0.00        41\n",
            "           6       0.00      0.00      0.00        76\n",
            "           7       0.00      0.00      0.00        20\n",
            "\n",
            "    accuracy                           0.69      6331\n",
            "   macro avg       0.17      0.13      0.11      6331\n",
            "weighted avg       0.53      0.69      0.57      6331\n",
            "\n",
            "Training Score:\n",
            " 68.66361266882552\n"
          ]
        }
      ]
    },
    {
      "cell_type": "code",
      "metadata": {
        "colab": {
          "base_uri": "https://localhost:8080/"
        },
        "id": "JO3ssNlWigcv",
        "outputId": "a65dcf82-3e25-472a-c9fc-07587ff80107"
      },
      "source": [
        "from sklearn.ensemble import RandomForestClassifier\n",
        "from sklearn.model_selection import GridSearchCV\n",
        "rfc=RandomForestClassifier()\n",
        "rfc.fit(x_train,y_train)"
      ],
      "execution_count": 128,
      "outputs": [
        {
          "output_type": "execute_result",
          "data": {
            "text/plain": [
              "RandomForestClassifier()"
            ]
          },
          "metadata": {},
          "execution_count": 128
        }
      ]
    },
    {
      "cell_type": "code",
      "metadata": {
        "colab": {
          "base_uri": "https://localhost:8080/"
        },
        "id": "TiKMZ5oXihh8",
        "outputId": "d0a83fe2-7c6b-4f58-e042-e1ae8b386c5b"
      },
      "source": [
        "y_pred=rfc.predict(x_test)\n",
        "conf =print(confusion_matrix(y_test, y_pred))\n",
        "clf =print(classification_report(y_test, y_pred))\n",
        "score=accuracy_score(y_test,y_pred)\n",
        "score\n",
        "print(\"Training Score:\\n\",rfc.score(x_train,y_train)*100)"
      ],
      "execution_count": 129,
      "outputs": [
        {
          "output_type": "stream",
          "name": "stdout",
          "text": [
            "[[3059  546  383  160  152   23   46    7]\n",
            " [ 482  143   83   42   25    6    7    3]\n",
            " [ 342   72   51   46   12    1    4    2]\n",
            " [ 158   50   33   55    4    1    2    0]\n",
            " [ 131   33   19    5    5    1    0    0]\n",
            " [  30    5    4    1    0    1    0    0]\n",
            " [  54   13    5    1    3    0    0    0]\n",
            " [  14    3    1    2    0    0    0    0]]\n",
            "              precision    recall  f1-score   support\n",
            "\n",
            "           0       0.72      0.70      0.71      4376\n",
            "           1       0.17      0.18      0.17       791\n",
            "           2       0.09      0.10      0.09       530\n",
            "           3       0.18      0.18      0.18       303\n",
            "           4       0.02      0.03      0.03       194\n",
            "           5       0.03      0.02      0.03        41\n",
            "           6       0.00      0.00      0.00        76\n",
            "           7       0.00      0.00      0.00        20\n",
            "\n",
            "    accuracy                           0.52      6331\n",
            "   macro avg       0.15      0.15      0.15      6331\n",
            "weighted avg       0.53      0.52      0.53      6331\n",
            "\n",
            "Training Score:\n",
            " 99.96840691888477\n"
          ]
        }
      ]
    },
    {
      "cell_type": "code",
      "metadata": {
        "colab": {
          "base_uri": "https://localhost:8080/",
          "height": 1000
        },
        "id": "gXzJ3DpNcng-",
        "outputId": "964186f6-577f-4c25-aebf-7bb1805930c3"
      },
      "source": [
        "test"
      ],
      "execution_count": 130,
      "outputs": [
        {
          "output_type": "execute_result",
          "data": {
            "text/html": [
              "<div>\n",
              "<style scoped>\n",
              "    .dataframe tbody tr th:only-of-type {\n",
              "        vertical-align: middle;\n",
              "    }\n",
              "\n",
              "    .dataframe tbody tr th {\n",
              "        vertical-align: top;\n",
              "    }\n",
              "\n",
              "    .dataframe thead th {\n",
              "        text-align: right;\n",
              "    }\n",
              "</style>\n",
              "<table border=\"1\" class=\"dataframe\">\n",
              "  <thead>\n",
              "    <tr style=\"text-align: right;\">\n",
              "      <th></th>\n",
              "      <th>ID</th>\n",
              "      <th>UsageClass</th>\n",
              "      <th>CheckoutType</th>\n",
              "      <th>CheckoutYear</th>\n",
              "      <th>CheckoutMonth</th>\n",
              "      <th>Checkouts</th>\n",
              "      <th>Title</th>\n",
              "      <th>Creator</th>\n",
              "      <th>Subjects</th>\n",
              "      <th>Publisher</th>\n",
              "      <th>PublicationYear</th>\n",
              "    </tr>\n",
              "  </thead>\n",
              "  <tbody>\n",
              "    <tr>\n",
              "      <th>0</th>\n",
              "      <td>31654</td>\n",
              "      <td>Physical</td>\n",
              "      <td>Horizon</td>\n",
              "      <td>2005</td>\n",
              "      <td>4</td>\n",
              "      <td>1</td>\n",
              "      <td>Footprints at the window</td>\n",
              "      <td>NaN</td>\n",
              "      <td>England Fiction, Space and time Fiction</td>\n",
              "      <td>NaN</td>\n",
              "      <td>NaN</td>\n",
              "    </tr>\n",
              "    <tr>\n",
              "      <th>1</th>\n",
              "      <td>31655</td>\n",
              "      <td>Physical</td>\n",
              "      <td>Horizon</td>\n",
              "      <td>2005</td>\n",
              "      <td>4</td>\n",
              "      <td>2</td>\n",
              "      <td>Seven brides for seven brothers</td>\n",
              "      <td>NaN</td>\n",
              "      <td>Video recordings for the hearing impaired, Mus...</td>\n",
              "      <td>NaN</td>\n",
              "      <td>NaN</td>\n",
              "    </tr>\n",
              "    <tr>\n",
              "      <th>2</th>\n",
              "      <td>31656</td>\n",
              "      <td>Physical</td>\n",
              "      <td>Horizon</td>\n",
              "      <td>2005</td>\n",
              "      <td>4</td>\n",
              "      <td>2</td>\n",
              "      <td>History [sound recording] / Loudon Wainwright ...</td>\n",
              "      <td>Wainwright, Loudon, III, 1946-</td>\n",
              "      <td>Popular music 1991 2000</td>\n",
              "      <td>Charisma,</td>\n",
              "      <td>p1992.</td>\n",
              "    </tr>\n",
              "    <tr>\n",
              "      <th>3</th>\n",
              "      <td>31657</td>\n",
              "      <td>Physical</td>\n",
              "      <td>Horizon</td>\n",
              "      <td>2005</td>\n",
              "      <td>4</td>\n",
              "      <td>2</td>\n",
              "      <td>Doing big business on the internet</td>\n",
              "      <td>NaN</td>\n",
              "      <td>Internet, Internet advertising, Information ne...</td>\n",
              "      <td>NaN</td>\n",
              "      <td>NaN</td>\n",
              "    </tr>\n",
              "    <tr>\n",
              "      <th>4</th>\n",
              "      <td>31658</td>\n",
              "      <td>Physical</td>\n",
              "      <td>Horizon</td>\n",
              "      <td>2005</td>\n",
              "      <td>4</td>\n",
              "      <td>2</td>\n",
              "      <td>Lets learn how to dance shag</td>\n",
              "      <td>NaN</td>\n",
              "      <td>Shag Dance, Ballroom dancing</td>\n",
              "      <td>NaN</td>\n",
              "      <td>NaN</td>\n",
              "    </tr>\n",
              "    <tr>\n",
              "      <th>...</th>\n",
              "      <td>...</td>\n",
              "      <td>...</td>\n",
              "      <td>...</td>\n",
              "      <td>...</td>\n",
              "      <td>...</td>\n",
              "      <td>...</td>\n",
              "      <td>...</td>\n",
              "      <td>...</td>\n",
              "      <td>...</td>\n",
              "      <td>...</td>\n",
              "      <td>...</td>\n",
              "    </tr>\n",
              "    <tr>\n",
              "      <th>21097</th>\n",
              "      <td>52751</td>\n",
              "      <td>Physical</td>\n",
              "      <td>Horizon</td>\n",
              "      <td>2005</td>\n",
              "      <td>4</td>\n",
              "      <td>1</td>\n",
              "      <td>History of womens costume</td>\n",
              "      <td>NaN</td>\n",
              "      <td>Costume History</td>\n",
              "      <td>NaN</td>\n",
              "      <td>NaN</td>\n",
              "    </tr>\n",
              "    <tr>\n",
              "      <th>21098</th>\n",
              "      <td>52752</td>\n",
              "      <td>Physical</td>\n",
              "      <td>Horizon</td>\n",
              "      <td>2005</td>\n",
              "      <td>4</td>\n",
              "      <td>10</td>\n",
              "      <td>Miss Smith's incredible storybook / Michael Ga...</td>\n",
              "      <td>Garland, Michael, 1952-</td>\n",
              "      <td>Books and reading Juvenile fiction, Teachers J...</td>\n",
              "      <td>Dutton Children's Books,</td>\n",
              "      <td>2003.</td>\n",
              "    </tr>\n",
              "    <tr>\n",
              "      <th>21099</th>\n",
              "      <td>52753</td>\n",
              "      <td>Physical</td>\n",
              "      <td>Horizon</td>\n",
              "      <td>2005</td>\n",
              "      <td>4</td>\n",
              "      <td>1</td>\n",
              "      <td>Sir Philip's folly / Marion Chesney.</td>\n",
              "      <td>Chesney, Marion</td>\n",
              "      <td>Man woman relationships England Fiction, Famil...</td>\n",
              "      <td>St. Martin's Press,</td>\n",
              "      <td>1993.</td>\n",
              "    </tr>\n",
              "    <tr>\n",
              "      <th>21100</th>\n",
              "      <td>52754</td>\n",
              "      <td>Physical</td>\n",
              "      <td>Horizon</td>\n",
              "      <td>2005</td>\n",
              "      <td>4</td>\n",
              "      <td>6</td>\n",
              "      <td>Miss congeniality</td>\n",
              "      <td>NaN</td>\n",
              "      <td>Video recordings for the hearing impaired, Fea...</td>\n",
              "      <td>NaN</td>\n",
              "      <td>NaN</td>\n",
              "    </tr>\n",
              "    <tr>\n",
              "      <th>21101</th>\n",
              "      <td>52755</td>\n",
              "      <td>Physical</td>\n",
              "      <td>Horizon</td>\n",
              "      <td>2005</td>\n",
              "      <td>4</td>\n",
              "      <td>2</td>\n",
              "      <td>At his best [sound recording] / Bill Monroe.</td>\n",
              "      <td>Monroe, Bill, 1911-1996</td>\n",
              "      <td>Country music, Bluegrass music</td>\n",
              "      <td>Hollywood,</td>\n",
              "      <td>p1989.</td>\n",
              "    </tr>\n",
              "  </tbody>\n",
              "</table>\n",
              "<p>21102 rows × 11 columns</p>\n",
              "</div>"
            ],
            "text/plain": [
              "          ID UsageClass  ...                 Publisher  PublicationYear\n",
              "0      31654   Physical  ...                       NaN              NaN\n",
              "1      31655   Physical  ...                       NaN              NaN\n",
              "2      31656   Physical  ...                 Charisma,           p1992.\n",
              "3      31657   Physical  ...                       NaN              NaN\n",
              "4      31658   Physical  ...                       NaN              NaN\n",
              "...      ...        ...  ...                       ...              ...\n",
              "21097  52751   Physical  ...                       NaN              NaN\n",
              "21098  52752   Physical  ...  Dutton Children's Books,            2003.\n",
              "21099  52753   Physical  ...       St. Martin's Press,            1993.\n",
              "21100  52754   Physical  ...                       NaN              NaN\n",
              "21101  52755   Physical  ...                Hollywood,           p1989.\n",
              "\n",
              "[21102 rows x 11 columns]"
            ]
          },
          "metadata": {},
          "execution_count": 130
        }
      ]
    },
    {
      "cell_type": "code",
      "metadata": {
        "colab": {
          "base_uri": "https://localhost:8080/",
          "height": 419
        },
        "id": "ntCxHyvUilMC",
        "outputId": "f556e818-64bc-4fc8-a6e9-edf2ef03d202"
      },
      "source": [
        "xtest= test.drop(columns=['UsageClass',\t'CheckoutType', 'CheckoutYear',\t'CheckoutMonth', 'Title',\t'Creator',\t'Subjects',\t'Publisher',\t'PublicationYear'])\n",
        "xtest\n",
        "xpred= rfc.predict(xtest)\n",
        "output= pd.DataFrame({'ID': test.ID, 'MaterialType': xpred})\n",
        "output"
      ],
      "execution_count": 131,
      "outputs": [
        {
          "output_type": "execute_result",
          "data": {
            "text/html": [
              "<div>\n",
              "<style scoped>\n",
              "    .dataframe tbody tr th:only-of-type {\n",
              "        vertical-align: middle;\n",
              "    }\n",
              "\n",
              "    .dataframe tbody tr th {\n",
              "        vertical-align: top;\n",
              "    }\n",
              "\n",
              "    .dataframe thead th {\n",
              "        text-align: right;\n",
              "    }\n",
              "</style>\n",
              "<table border=\"1\" class=\"dataframe\">\n",
              "  <thead>\n",
              "    <tr style=\"text-align: right;\">\n",
              "      <th></th>\n",
              "      <th>ID</th>\n",
              "      <th>MaterialType</th>\n",
              "    </tr>\n",
              "  </thead>\n",
              "  <tbody>\n",
              "    <tr>\n",
              "      <th>0</th>\n",
              "      <td>31654</td>\n",
              "      <td>0</td>\n",
              "    </tr>\n",
              "    <tr>\n",
              "      <th>1</th>\n",
              "      <td>31655</td>\n",
              "      <td>0</td>\n",
              "    </tr>\n",
              "    <tr>\n",
              "      <th>2</th>\n",
              "      <td>31656</td>\n",
              "      <td>0</td>\n",
              "    </tr>\n",
              "    <tr>\n",
              "      <th>3</th>\n",
              "      <td>31657</td>\n",
              "      <td>0</td>\n",
              "    </tr>\n",
              "    <tr>\n",
              "      <th>4</th>\n",
              "      <td>31658</td>\n",
              "      <td>0</td>\n",
              "    </tr>\n",
              "    <tr>\n",
              "      <th>...</th>\n",
              "      <td>...</td>\n",
              "      <td>...</td>\n",
              "    </tr>\n",
              "    <tr>\n",
              "      <th>21097</th>\n",
              "      <td>52751</td>\n",
              "      <td>0</td>\n",
              "    </tr>\n",
              "    <tr>\n",
              "      <th>21098</th>\n",
              "      <td>52752</td>\n",
              "      <td>3</td>\n",
              "    </tr>\n",
              "    <tr>\n",
              "      <th>21099</th>\n",
              "      <td>52753</td>\n",
              "      <td>0</td>\n",
              "    </tr>\n",
              "    <tr>\n",
              "      <th>21100</th>\n",
              "      <td>52754</td>\n",
              "      <td>2</td>\n",
              "    </tr>\n",
              "    <tr>\n",
              "      <th>21101</th>\n",
              "      <td>52755</td>\n",
              "      <td>0</td>\n",
              "    </tr>\n",
              "  </tbody>\n",
              "</table>\n",
              "<p>21102 rows × 2 columns</p>\n",
              "</div>"
            ],
            "text/plain": [
              "          ID  MaterialType\n",
              "0      31654             0\n",
              "1      31655             0\n",
              "2      31656             0\n",
              "3      31657             0\n",
              "4      31658             0\n",
              "...      ...           ...\n",
              "21097  52751             0\n",
              "21098  52752             3\n",
              "21099  52753             0\n",
              "21100  52754             2\n",
              "21101  52755             0\n",
              "\n",
              "[21102 rows x 2 columns]"
            ]
          },
          "metadata": {},
          "execution_count": 131
        }
      ]
    },
    {
      "cell_type": "code",
      "metadata": {
        "colab": {
          "base_uri": "https://localhost:8080/"
        },
        "id": "N_rxNjGelQMq",
        "outputId": "a481615f-bc59-4774-9c28-d6dc1e7eb496"
      },
      "source": [
        "output.nunique()"
      ],
      "execution_count": 132,
      "outputs": [
        {
          "output_type": "execute_result",
          "data": {
            "text/plain": [
              "ID              21102\n",
              "MaterialType        3\n",
              "dtype: int64"
            ]
          },
          "metadata": {},
          "execution_count": 132
        }
      ]
    },
    {
      "cell_type": "code",
      "metadata": {
        "colab": {
          "base_uri": "https://localhost:8080/"
        },
        "id": "wKC-cwCRlVWX",
        "outputId": "04537ab6-b375-4942-fef6-eb41556029d8"
      },
      "source": [
        "pd.unique(output['MaterialType'])"
      ],
      "execution_count": 133,
      "outputs": [
        {
          "output_type": "execute_result",
          "data": {
            "text/plain": [
              "array([0, 3, 2])"
            ]
          },
          "metadata": {},
          "execution_count": 133
        }
      ]
    },
    {
      "cell_type": "code",
      "metadata": {
        "colab": {
          "base_uri": "https://localhost:8080/",
          "height": 419
        },
        "id": "fIBZKFlfCnoN",
        "outputId": "01b96ed5-2b16-44ab-8f15-b8169ac44a05"
      },
      "source": [
        "output['MaterialType'].replace({0:'BOOK', 1:'SOUNDDISC', 2:'VIDEOCASS', 3:'VIDEODISC', 4:'SOUNDCASS',\n",
        "       5:'MUSIC', 6:'MIXED', 7:'CR'}, inplace=True)\n",
        "output\n"
      ],
      "execution_count": 134,
      "outputs": [
        {
          "output_type": "execute_result",
          "data": {
            "text/html": [
              "<div>\n",
              "<style scoped>\n",
              "    .dataframe tbody tr th:only-of-type {\n",
              "        vertical-align: middle;\n",
              "    }\n",
              "\n",
              "    .dataframe tbody tr th {\n",
              "        vertical-align: top;\n",
              "    }\n",
              "\n",
              "    .dataframe thead th {\n",
              "        text-align: right;\n",
              "    }\n",
              "</style>\n",
              "<table border=\"1\" class=\"dataframe\">\n",
              "  <thead>\n",
              "    <tr style=\"text-align: right;\">\n",
              "      <th></th>\n",
              "      <th>ID</th>\n",
              "      <th>MaterialType</th>\n",
              "    </tr>\n",
              "  </thead>\n",
              "  <tbody>\n",
              "    <tr>\n",
              "      <th>0</th>\n",
              "      <td>31654</td>\n",
              "      <td>BOOK</td>\n",
              "    </tr>\n",
              "    <tr>\n",
              "      <th>1</th>\n",
              "      <td>31655</td>\n",
              "      <td>BOOK</td>\n",
              "    </tr>\n",
              "    <tr>\n",
              "      <th>2</th>\n",
              "      <td>31656</td>\n",
              "      <td>BOOK</td>\n",
              "    </tr>\n",
              "    <tr>\n",
              "      <th>3</th>\n",
              "      <td>31657</td>\n",
              "      <td>BOOK</td>\n",
              "    </tr>\n",
              "    <tr>\n",
              "      <th>4</th>\n",
              "      <td>31658</td>\n",
              "      <td>BOOK</td>\n",
              "    </tr>\n",
              "    <tr>\n",
              "      <th>...</th>\n",
              "      <td>...</td>\n",
              "      <td>...</td>\n",
              "    </tr>\n",
              "    <tr>\n",
              "      <th>21097</th>\n",
              "      <td>52751</td>\n",
              "      <td>BOOK</td>\n",
              "    </tr>\n",
              "    <tr>\n",
              "      <th>21098</th>\n",
              "      <td>52752</td>\n",
              "      <td>VIDEODISC</td>\n",
              "    </tr>\n",
              "    <tr>\n",
              "      <th>21099</th>\n",
              "      <td>52753</td>\n",
              "      <td>BOOK</td>\n",
              "    </tr>\n",
              "    <tr>\n",
              "      <th>21100</th>\n",
              "      <td>52754</td>\n",
              "      <td>VIDEOCASS</td>\n",
              "    </tr>\n",
              "    <tr>\n",
              "      <th>21101</th>\n",
              "      <td>52755</td>\n",
              "      <td>BOOK</td>\n",
              "    </tr>\n",
              "  </tbody>\n",
              "</table>\n",
              "<p>21102 rows × 2 columns</p>\n",
              "</div>"
            ],
            "text/plain": [
              "          ID MaterialType\n",
              "0      31654         BOOK\n",
              "1      31655         BOOK\n",
              "2      31656         BOOK\n",
              "3      31657         BOOK\n",
              "4      31658         BOOK\n",
              "...      ...          ...\n",
              "21097  52751         BOOK\n",
              "21098  52752    VIDEODISC\n",
              "21099  52753         BOOK\n",
              "21100  52754    VIDEOCASS\n",
              "21101  52755         BOOK\n",
              "\n",
              "[21102 rows x 2 columns]"
            ]
          },
          "metadata": {},
          "execution_count": 134
        }
      ]
    },
    {
      "cell_type": "code",
      "metadata": {
        "id": "CPvrHZkdDEdb"
      },
      "source": [
        "output.to_csv(\"sample_submission.csv\", index=False)"
      ],
      "execution_count": 135,
      "outputs": []
    }
  ]
}